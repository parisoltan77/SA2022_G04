{
 "cells": [
  {
   "cell_type": "markdown",
   "id": "20b0ee79",
   "metadata": {},
   "source": [
    "# God Class Heuristics\n",
    "\n",
    "* df - pandas DataFrame containing the whole dataset\n",
    "* df_train - pandas DataFrame containing the training set (approximately 80% of the dataset, selected by stratified sampling)\n",
    "* d_test - pandas DataFrame containing the test set (approximately 20% of the dataset, selected by stratified sampling)"
   ]
  },
  {
   "cell_type": "code",
   "execution_count": 1,
   "id": "d94e29cc",
   "metadata": {},
   "outputs": [
    {
     "name": "stdout",
     "output_type": "stream",
     "text": [
      "The first 5 rows of the training dataframe:\n",
      "    parts  label  sample_id  type  cbo  dit  rfc  tcc  lcc  totalMethodsQty  \\\n",
      "0  train      1    7047868     1   23    1  141  0.0  0.0               22   \n",
      "1  train      1    4296219     1   11    2   37  0.0  0.0               21   \n",
      "2  train      1    6773071     1   26    2   43  0.0  0.0              229   \n",
      "3  train      1    6079026     1   43    2   87  0.0  0.0               10   \n",
      "4  train      1    6204790     1  119    1   40  0.0  0.0                2   \n",
      "\n",
      "   ...  innerClassesQty  lambdasQty  uniqueWordsQty  modifiers  \\\n",
      "0  ...                0           0             307          1   \n",
      "1  ...                0           0             117          1   \n",
      "2  ...                2           0             235          1   \n",
      "3  ...                1           3             134         17   \n",
      "4  ...                1           0             286          1   \n",
      "\n",
      "   logStatementsQty  RM_LOC  RM_LCOM5  RM_NADC  RM_ATFD  RM_WMC  \n",
      "0                 0    1059    0.9850        0       76     524  \n",
      "1                 5     267    0.9870        0        0      54  \n",
      "2                 0    1161    0.9899        0        0     263  \n",
      "3                 8     130    0.9630        0        0      27  \n",
      "4                 0     349    1.0272        0        0       5  \n",
      "\n",
      "[5 rows x 49 columns]\n",
      "*****************************************************************\n",
      "The labels of the first 5 lines of the training dataframe:\n",
      " 0    1\n",
      "1    1\n",
      "2    1\n",
      "3    1\n",
      "4    1\n",
      "Name: label, dtype: int64\n",
      "*****************************************************************\n",
      "The first 5 rows of the testing dataframe:\n",
      "      parts  label  sample_id  type  cbo  dit  rfc  tcc  lcc  totalMethodsQty  \\\n",
      "1839  test      1    8528735     1  114    3  239  0.0  0.0               25   \n",
      "1840  test      1    4131952     1   14    2   63  0.0  0.0               55   \n",
      "1841  test      1    4401367     1   42    1   97  0.0  0.0               22   \n",
      "1842  test      1    7747098     1   16    1    2  0.0  0.0               26   \n",
      "1843  test      1    5925637     1   40    1   99  0.0  0.0               24   \n",
      "\n",
      "      ...  innerClassesQty  lambdasQty  uniqueWordsQty  modifiers  \\\n",
      "1839  ...                2           0             395       1025   \n",
      "1840  ...                3           2             317          1   \n",
      "1841  ...                0           0             173          1   \n",
      "1842  ...               14           0              79          1   \n",
      "1843  ...                0           0             124          1   \n",
      "\n",
      "      logStatementsQty  RM_LOC  RM_LCOM5  RM_NADC  RM_ATFD  RM_WMC  \n",
      "1839                39     751    0.9626        0        0     160  \n",
      "1840                 0     464    0.9527        0        0     126  \n",
      "1841                 0     301    0.7857        0        0      74  \n",
      "1842                 0     147    0.0000        0        0      33  \n",
      "1843                15     311    0.8913        0        0      67  \n",
      "\n",
      "[5 rows x 49 columns]\n",
      "*****************************************************************\n",
      "The labels of the first 5 lines of the testing dataframe:\n",
      " 1839    1\n",
      "1840    1\n",
      "1841    1\n",
      "1842    1\n",
      "1843    1\n",
      "Name: label, dtype: int64\n"
     ]
    }
   ],
   "source": [
    "#load dataset\n",
    "import pandas as pd\n",
    "from sklearn.metrics import classification_report\n",
    "import os\n",
    "\n",
    "df = pd.read_excel(\"../Data/God_Class_code_metrics_values.xlsx\")\n",
    "new_labels = {\"label\":     {\"critical\": 1, \"major\": 1, \"minor\": 1, \"none\": 0}}\n",
    "df= df.replace(new_labels)\n",
    "\n",
    "df_train = df[df['parts']=='train']\n",
    "y_train = df_train['label']\n",
    "df_test = df[df['parts']=='test']\n",
    "y_test = df_test['label']\n",
    "\n",
    "print(\"The first 5 rows of the training dataframe:\\n\", df_train.head())\n",
    "print(\"*****************************************************************\")\n",
    "print(\"The labels of the first 5 lines of the training dataframe:\\n\", y_train.head())\n",
    "print(\"*****************************************************************\")\n",
    "print(\"The first 5 rows of the testing dataframe:\\n\", df_test.head())\n",
    "print(\"*****************************************************************\")\n",
    "print(\"The labels of the first 5 lines of the testing dataframe:\\n\", y_test.head())"
   ]
  },
  {
   "cell_type": "code",
   "execution_count": 2,
   "id": "6acaf5b3",
   "metadata": {},
   "outputs": [
    {
     "name": "stdout",
     "output_type": "stream",
     "text": [
      "Number of examples: 2300\n",
      "Number of train examples: 1839 ; positive: 197 ; negative:  1642\n",
      "Number of test examples: 461 ; positive: 54 ; negative:  407\n"
     ]
    }
   ],
   "source": [
    "print(\"Number of examples:\", df.shape[0])\n",
    "print(\"Number of train examples:\", df_train.shape[0], \"; positive:\", df_train[y_train==1].shape[0], \"; negative: \", df_train[y_train==0].shape[0])\n",
    "print(\"Number of test examples:\", df_test.shape[0], \"; positive:\", df_test[y_test==1].shape[0], \"; negative: \", df_test[y_test==0].shape[0])"
   ]
  },
  {
   "cell_type": "markdown",
   "id": "643cd250",
   "metadata": {},
   "source": [
    "GC_1 is from Trifu & Marinescu (2005): God Class is complex, non-cohesive, and accesses more than two attributes of other classes."
   ]
  },
  {
   "cell_type": "code",
   "execution_count": 3,
   "id": "a174690d",
   "metadata": {},
   "outputs": [],
   "source": [
    "def GC_1(df):    \n",
    "    df['GC_1'] = (df['RM_ATFD'] > 2) & (df['RM_WMC'] >= 47) & (df['tcc'] < 0.33)\n",
    "    df['GC_1'].replace({False:0, True:1},inplace=True)"
   ]
  },
  {
   "cell_type": "markdown",
   "id": "3c1f916a",
   "metadata": {},
   "source": [
    "GC_2 is from Macia et al. (2012): God class is complex, non-cohesive, and accesses more than five attributes of other classes."
   ]
  },
  {
   "cell_type": "code",
   "execution_count": 4,
   "id": "3973b84b",
   "metadata": {},
   "outputs": [],
   "source": [
    "def GC_2(df):    \n",
    "    df['GC_2'] = (df['RM_ATFD'] > 5) & (df['RM_WMC'] >= 47) & (df['tcc'] < 0.33)\n",
    "    df['GC_2'].replace({False:0, True:1},inplace=True)"
   ]
  },
  {
   "cell_type": "markdown",
   "id": "0cff98ea",
   "metadata": {},
   "source": [
    "GC_3 is from Kiefer et al. (2007): God Class has a lot of methods and instance variables."
   ]
  },
  {
   "cell_type": "code",
   "execution_count": 5,
   "id": "74829751",
   "metadata": {},
   "outputs": [],
   "source": [
    "def GC_3(df):  \n",
    "    df['GC_3'] = (df['totalMethodsQty'] > 15) | (df['totalFieldsQty'] > 15)\n",
    "    df['GC_3'].replace({False:0, True:1},inplace=True)"
   ]
  },
  {
   "cell_type": "markdown",
   "id": "a6238aaf",
   "metadata": {},
   "source": [
    "GC_4 is from Fard et al. (2013): God Class has many lines of code, or it has a lot of methods and properties."
   ]
  },
  {
   "cell_type": "code",
   "execution_count": 6,
   "id": "5b1eaa5b",
   "metadata": {},
   "outputs": [],
   "source": [
    "def GC_4(df):   \n",
    "    df['GC_4'] = (df['RM_LOC'] > 750) | (df['totalFieldsQty'] + df['totalMethodsQty'] > 20)\n",
    "    df['GC_4'].replace({False:0, True:1},inplace=True)"
   ]
  },
  {
   "cell_type": "markdown",
   "id": "c2f79eb3",
   "metadata": {},
   "source": [
    "GC_5 is from Moha et al. (2009): God Class declares many fields and methods."
   ]
  },
  {
   "cell_type": "code",
   "execution_count": 7,
   "id": "4db65103",
   "metadata": {},
   "outputs": [],
   "source": [
    "def GC_5(df):  \n",
    "    df['GC_5'] = df['totalFieldsQty'] + df['totalMethodsQty'] > 20\n",
    "    df['GC_5'].replace({False:0, True:1},inplace=True)"
   ]
  },
  {
   "cell_type": "markdown",
   "id": "17511ba7",
   "metadata": {},
   "source": [
    "GC_6 is from Souza et al. (2017): God Class is huge, complex, and has an extremely high number of fields and methods."
   ]
  },
  {
   "cell_type": "code",
   "execution_count": 8,
   "id": "b3cba89b",
   "metadata": {},
   "outputs": [],
   "source": [
    "def GC_6(df):    \n",
    "    df['GC_6'] = (df['RM_LCOM5'] >= 0.725) & (df['RM_WMC'] >= 34) | (df['totalFieldsQty'] >= 8) | (df['totalMethodsQty'] >= 14)\n",
    "    df['GC_6'].replace({False:0, True:1},inplace=True)"
   ]
  },
  {
   "cell_type": "markdown",
   "id": "fe0b9f2f",
   "metadata": {},
   "source": [
    "GC_7 is from Danphitsanuphan et al. (2012): God Class has many lines of code, or it has many global variables or many methods."
   ]
  },
  {
   "cell_type": "code",
   "execution_count": 9,
   "id": "5e0f1d55",
   "metadata": {},
   "outputs": [],
   "source": [
    "def GC_7(df):    \n",
    "    df['GC_7'] = (df['totalMethodsQty'] > 20) | (df['totalFieldsQty'] > 9) | (df['RM_LOC'] > 750)\n",
    "    df['GC_7'].replace({False:0, True:1},inplace=True)"
   ]
  },
  {
   "cell_type": "markdown",
   "id": "7ee3a53a",
   "metadata": {},
   "source": [
    "GC_8 is from Liu et al. (2011): God class has many lines of code or is highly complex."
   ]
  },
  {
   "cell_type": "code",
   "execution_count": 10,
   "id": "78472c89",
   "metadata": {},
   "outputs": [],
   "source": [
    "def GC_8(df):    \n",
    "    df['GC_8'] = (df['RM_LOC'] > 100) | (df['RM_WMC'] > 20)\n",
    "    df['GC_8'].replace({False:0, True:1},inplace=True)"
   ]
  },
  {
   "cell_type": "markdown",
   "id": "6a544487",
   "metadata": {},
   "source": [
    "ALL – all individual rules (GC_1 to GC_8)"
   ]
  },
  {
   "cell_type": "code",
   "execution_count": 11,
   "id": "79bf726d",
   "metadata": {},
   "outputs": [],
   "source": [
    "def all_heuristics(df):\n",
    "    df['ALL'] = df['GC_1'] & df['GC_2'] & df['GC_3'] & df['GC_4'] & df['GC_5'] & df['GC_6'] & df['GC_7'] & df['GC_8']"
   ]
  },
  {
   "cell_type": "markdown",
   "id": "13a85281",
   "metadata": {},
   "source": [
    "ANY – any of the individual rules (GC_1 to GC_8)"
   ]
  },
  {
   "cell_type": "code",
   "execution_count": 12,
   "id": "1ad24a1e",
   "metadata": {},
   "outputs": [],
   "source": [
    "def any_heuristics(df):\n",
    "    df['ANY'] = df['GC_1'] | df['GC_2'] | df['GC_3'] | df['GC_4'] | df['GC_5'] | df['GC_6'] | df['GC_7'] | df['GC_8']"
   ]
  },
  {
   "cell_type": "markdown",
   "id": "baa75fef",
   "metadata": {},
   "source": [
    "Precision, recall, and F1-measure of the minority (smell) class (denoted as 1)."
   ]
  },
  {
   "cell_type": "code",
   "execution_count": 13,
   "id": "e327e9d3",
   "metadata": {},
   "outputs": [],
   "source": [
    "from sklearn.metrics import confusion_matrix\n",
    "\n",
    "def precision(true, predicted):\n",
    "    tn, fp, fn, tp = confusion_matrix(true, predicted).ravel()\n",
    "    return tp/(tp+fp)\n",
    "\n",
    "def recall(true, predicted):\n",
    "    tn, fp, fn, tp = confusion_matrix(true, predicted).ravel()\n",
    "    return tp/(tp+fn)\n",
    "\n",
    "def fmeasure(true, predicted):\n",
    "    p = precision(true, predicted)\n",
    "    r = recall(true, predicted)\n",
    "    return 2*p*r/(p+r)"
   ]
  },
  {
   "cell_type": "markdown",
   "id": "4e0ab1ce",
   "metadata": {},
   "source": [
    "Weighted vote – the model calculates the probability of the code sample suffering from the smell as a weighted vote of the individual classifiers. We use the F1-measure achieved on the training set as the weight and apply the softmax function to normalize weights (so they sum to 1)."
   ]
  },
  {
   "cell_type": "code",
   "execution_count": 14,
   "id": "0f141372",
   "metadata": {},
   "outputs": [],
   "source": [
    "import numpy as np\n",
    "\n",
    "#applies softmax for each sets of scores in input:x.\n",
    "def softmax(x):\n",
    "    e_x = np.exp(x - np.max(x))\n",
    "    return e_x / e_x.sum()\n",
    "\n",
    "def get_weights():\n",
    "    true = df['label']\n",
    "    heuristics = ['GC_1', 'GC_2', 'GC_3', 'GC_4', 'GC_5', 'GC_6', 'GC_7', 'GC_8']\n",
    "    weights = np.zeros(len(heuristics))\n",
    "    for i in range(len(heuristics)):\n",
    "        predicted = df[heuristics[i]]\n",
    "        weights[i] = fmeasure(true, predicted)\n",
    "    print(\"weights:\", weights)\n",
    "    return weights\n",
    "\n",
    "def weighted_vote(df):\n",
    "    pd.options.mode.chained_assignment = None  # default='warn'\n",
    "    \n",
    "    heuristic_fmeasures = get_weights()\n",
    "    weights = softmax(heuristic_fmeasures) \n",
    "    df['Weighted_Vote_probability'] = df['GC_1']*weights[0] + df['GC_2']*weights[1] + df['GC_3']*weights[2]+ df['GC_4']*weights[3]+ df['GC_5']*weights[4]+ df['GC_6']*weights[5]+ df['GC_7']*weights[6]+ df['GC_8']*weights[7]\n",
    "    is_smell = df['Weighted_Vote_probability'] > 0.5\n",
    "    print(\"is smell: \",is_smell)\n",
    "    df['Weighted_Vote'] = 0\n",
    "    df['Weighted_Vote'][is_smell] = 1\n",
    "    print(\"Weighted Vote: \", df['Weighted_Vote'])"
   ]
  },
  {
   "cell_type": "code",
   "execution_count": 15,
   "id": "d519e2e8",
   "metadata": {},
   "outputs": [],
   "source": [
    "#applies all heuristics to the df DataFrame \n",
    "def apply_heuristics(df):\n",
    "    GC_1(df)\n",
    "    GC_2(df)\n",
    "    GC_3(df)\n",
    "    GC_4(df)\n",
    "    GC_5(df)\n",
    "    GC_6(df)\n",
    "    GC_7(df)\n",
    "    GC_8(df)\n",
    "    all_heuristics(df)\n",
    "    any_heuristics(df)\n",
    "    weighted_vote(df) "
   ]
  },
  {
   "cell_type": "markdown",
   "id": "86636fb7",
   "metadata": {},
   "source": [
    "Part : \"train\", \"test\" or \"all\" Heuristic : GC_1, GC_2, ..., GC_8, ALL, ANY, Weighted_Vote"
   ]
  },
  {
   "cell_type": "code",
   "execution_count": 16,
   "id": "18cc71bc",
   "metadata": {},
   "outputs": [],
   "source": [
    "def eval_calculation(heuristic, part):\n",
    "    if(part==\"train\"):        \n",
    "        true = df_train['label']\n",
    "        predicted = df_train[heuristic]\n",
    "    elif(part==\"test\"):\n",
    "        true = df_test['label']\n",
    "        predicted = df_test[heuristic]\n",
    "    elif(part==\"all\"):        \n",
    "        true = df['label']\n",
    "        predicted = df[heuristic]\n",
    "        \n",
    "    p = precision(true, predicted)\n",
    "    r = recall(true, predicted)\n",
    "    f = fmeasure(true, predicted)\n",
    "    \n",
    "    return p, r, f"
   ]
  },
  {
   "cell_type": "markdown",
   "id": "7e0273af",
   "metadata": {},
   "source": [
    "Part : \"train\", \"test\" or \"all\"\n",
    "Heuristic : GC_1, GC_2, ..., GC_8, ALL, ANY, Weighted_Vote "
   ]
  },
  {
   "cell_type": "code",
   "execution_count": 17,
   "id": "2dd758d0",
   "metadata": {},
   "outputs": [],
   "source": [
    "def print_result(heuristic, part):\n",
    "    p, r, f = eval_calculation(heuristic, part)\n",
    "    \n",
    "    print(\"Heuristic\", heuristic, \"on\", part, \":\", \"Precision: %.2f\" % p, \"; Recall: %.2f\" % r, \"; F-measure: %.2f\"% f)"
   ]
  },
  {
   "cell_type": "markdown",
   "id": "df2b217e",
   "metadata": {},
   "source": [
    "We show weights here to make sure that our code works."
   ]
  },
  {
   "cell_type": "code",
   "execution_count": 18,
   "id": "492871e2",
   "metadata": {},
   "outputs": [
    {
     "name": "stdout",
     "output_type": "stream",
     "text": [
      "weights: [0.05818182 0.05947955 0.39215686 0.40139616 0.40139616 0.40506329\n",
      " 0.39106145 0.45839018]\n",
      "is smell:  0        True\n",
      "1        True\n",
      "2        True\n",
      "3       False\n",
      "4        True\n",
      "        ...  \n",
      "2295    False\n",
      "2296    False\n",
      "2297    False\n",
      "2298     True\n",
      "2299    False\n",
      "Name: Weighted_Vote_probability, Length: 2300, dtype: bool\n",
      "Weighted Vote:  0       1\n",
      "1       1\n",
      "2       1\n",
      "3       0\n",
      "4       1\n",
      "       ..\n",
      "2295    0\n",
      "2296    0\n",
      "2297    0\n",
      "2298    1\n",
      "2299    0\n",
      "Name: Weighted_Vote, Length: 2300, dtype: int64\n",
      "weights: [0.05818182 0.05947955 0.39215686 0.40139616 0.40139616 0.40506329\n",
      " 0.39106145 0.45839018]\n",
      "is smell:  0        True\n",
      "1        True\n",
      "2        True\n",
      "3       False\n",
      "4        True\n",
      "        ...  \n",
      "1834    False\n",
      "1835    False\n",
      "1836    False\n",
      "1837    False\n",
      "1838    False\n",
      "Name: Weighted_Vote_probability, Length: 1839, dtype: bool\n",
      "Weighted Vote:  0       1\n",
      "1       1\n",
      "2       1\n",
      "3       0\n",
      "4       1\n",
      "       ..\n",
      "1834    0\n",
      "1835    0\n",
      "1836    0\n",
      "1837    0\n",
      "1838    0\n",
      "Name: Weighted_Vote, Length: 1839, dtype: int64\n",
      "weights: [0.05818182 0.05947955 0.39215686 0.40139616 0.40139616 0.40506329\n",
      " 0.39106145 0.45839018]\n",
      "is smell:  1839     True\n",
      "1840     True\n",
      "1841     True\n",
      "1842     True\n",
      "1843     True\n",
      "        ...  \n",
      "2295    False\n",
      "2296    False\n",
      "2297    False\n",
      "2298     True\n",
      "2299    False\n",
      "Name: Weighted_Vote_probability, Length: 461, dtype: bool\n",
      "Weighted Vote:  1839    1\n",
      "1840    1\n",
      "1841    1\n",
      "1842    1\n",
      "1843    1\n",
      "       ..\n",
      "2295    0\n",
      "2296    0\n",
      "2297    0\n",
      "2298    1\n",
      "2299    0\n",
      "Name: Weighted_Vote, Length: 461, dtype: int64\n"
     ]
    }
   ],
   "source": [
    "apply_heuristics(df)\n",
    "apply_heuristics(df_train)\n",
    "apply_heuristics(df_test)"
   ]
  },
  {
   "cell_type": "markdown",
   "id": "4d8432d3",
   "metadata": {},
   "source": [
    "Printing the performance of each heuristic:"
   ]
  },
  {
   "cell_type": "code",
   "execution_count": 19,
   "id": "ec55c8fd",
   "metadata": {},
   "outputs": [
    {
     "name": "stdout",
     "output_type": "stream",
     "text": [
      "Heuristic GC_8 on train : Precision: 0.34 ; Recall: 0.66 ; F-measure: 0.45\n",
      "Heuristic GC_8 on test : Precision: 0.37 ; Recall: 0.70 ; F-measure: 0.49\n",
      "Heuristic GC_8 on all : Precision: 0.35 ; Recall: 0.67 ; F-measure: 0.46\n"
     ]
    }
   ],
   "source": [
    "print_result('GC_8', 'train')\n",
    "print_result('GC_8', 'test')\n",
    "print_result('GC_8', 'all')"
   ]
  },
  {
   "cell_type": "code",
   "execution_count": 20,
   "id": "82bcf72b",
   "metadata": {},
   "outputs": [
    {
     "name": "stdout",
     "output_type": "stream",
     "text": [
      "Heuristic Weighted_Vote on train : Precision: 0.35 ; Recall: 0.46 ; F-measure: 0.40\n",
      "Heuristic Weighted_Vote on test : Precision: 0.39 ; Recall: 0.44 ; F-measure: 0.42\n",
      "Heuristic Weighted_Vote on all : Precision: 0.36 ; Recall: 0.45 ; F-measure: 0.40\n"
     ]
    }
   ],
   "source": [
    "print_result('Weighted_Vote', 'train')\n",
    "print_result('Weighted_Vote', 'test')\n",
    "print_result('Weighted_Vote', 'all')"
   ]
  },
  {
   "cell_type": "code",
   "execution_count": 21,
   "id": "8de2827d",
   "metadata": {},
   "outputs": [
    {
     "name": "stdout",
     "output_type": "stream",
     "text": [
      "Heuristic ALL on train : Precision: 0.50 ; Recall: 0.02 ; F-measure: 0.04\n",
      "Heuristic ALL on test : Precision: 0.75 ; Recall: 0.06 ; F-measure: 0.10\n",
      "Heuristic ALL on all : Precision: 0.58 ; Recall: 0.03 ; F-measure: 0.05\n"
     ]
    }
   ],
   "source": [
    "print_result('ALL', 'train')\n",
    "print_result('ALL', 'test')\n",
    "print_result('ALL', 'all')"
   ]
  },
  {
   "cell_type": "code",
   "execution_count": 22,
   "id": "b0012c10",
   "metadata": {},
   "outputs": [
    {
     "name": "stdout",
     "output_type": "stream",
     "text": [
      "Heuristic ANY on train : Precision: 0.30 ; Recall: 0.71 ; F-measure: 0.42\n",
      "Heuristic ANY on test : Precision: 0.31 ; Recall: 0.70 ; F-measure: 0.43\n",
      "Heuristic ANY on all : Precision: 0.30 ; Recall: 0.71 ; F-measure: 0.42\n"
     ]
    }
   ],
   "source": [
    "print_result('ANY', 'train')\n",
    "print_result('ANY', 'test')\n",
    "print_result('ANY', 'all')"
   ]
  },
  {
   "cell_type": "code",
   "execution_count": 23,
   "id": "ff316bce",
   "metadata": {},
   "outputs": [
    {
     "name": "stdout",
     "output_type": "stream",
     "text": [
      "Heuristic GC_7 on train : Precision: 0.36 ; Recall: 0.43 ; F-measure: 0.39\n",
      "Heuristic GC_7 on test : Precision: 0.39 ; Recall: 0.39 ; F-measure: 0.39\n",
      "Heuristic GC_7 on all : Precision: 0.37 ; Recall: 0.42 ; F-measure: 0.39\n"
     ]
    }
   ],
   "source": [
    "print_result('GC_7', 'train')\n",
    "print_result('GC_7', 'test')\n",
    "print_result('GC_7', 'all')"
   ]
  },
  {
   "cell_type": "code",
   "execution_count": 24,
   "id": "d60b758f",
   "metadata": {},
   "outputs": [
    {
     "name": "stdout",
     "output_type": "stream",
     "text": [
      "Heuristic GC_6 on train : Precision: 0.31 ; Recall: 0.56 ; F-measure: 0.40\n",
      "Heuristic GC_6 on test : Precision: 0.34 ; Recall: 0.61 ; F-measure: 0.43\n",
      "Heuristic GC_6 on all : Precision: 0.31 ; Recall: 0.57 ; F-measure: 0.41\n"
     ]
    }
   ],
   "source": [
    "print_result('GC_6', 'train')\n",
    "print_result('GC_6', 'test')\n",
    "print_result('GC_6', 'all')"
   ]
  },
  {
   "cell_type": "code",
   "execution_count": 25,
   "id": "2d97d289",
   "metadata": {},
   "outputs": [
    {
     "name": "stdout",
     "output_type": "stream",
     "text": [
      "Heuristic GC_5 on train : Precision: 0.35 ; Recall: 0.46 ; F-measure: 0.40\n",
      "Heuristic GC_5 on test : Precision: 0.39 ; Recall: 0.44 ; F-measure: 0.42\n",
      "Heuristic GC_5 on all : Precision: 0.36 ; Recall: 0.46 ; F-measure: 0.40\n"
     ]
    }
   ],
   "source": [
    "print_result('GC_5', 'train')\n",
    "print_result('GC_5', 'test')\n",
    "print_result('GC_5', 'all')"
   ]
  },
  {
   "cell_type": "code",
   "execution_count": 26,
   "id": "79d16117",
   "metadata": {},
   "outputs": [
    {
     "name": "stdout",
     "output_type": "stream",
     "text": [
      "Heuristic GC_4 on train : Precision: 0.35 ; Recall: 0.46 ; F-measure: 0.40\n",
      "Heuristic GC_4 on test : Precision: 0.39 ; Recall: 0.44 ; F-measure: 0.42\n",
      "Heuristic GC_4 on all : Precision: 0.36 ; Recall: 0.46 ; F-measure: 0.40\n"
     ]
    }
   ],
   "source": [
    "print_result('GC_4', 'train')\n",
    "print_result('GC_4', 'test')\n",
    "print_result('GC_4', 'all')"
   ]
  },
  {
   "cell_type": "code",
   "execution_count": 27,
   "id": "e3d155a9",
   "metadata": {},
   "outputs": [
    {
     "name": "stdout",
     "output_type": "stream",
     "text": [
      "Heuristic GC_3 on train : Precision: 0.33 ; Recall: 0.42 ; F-measure: 0.37\n",
      "Heuristic GC_3 on test : Precision: 0.44 ; Recall: 0.52 ; F-measure: 0.47\n",
      "Heuristic GC_3 on all : Precision: 0.35 ; Recall: 0.44 ; F-measure: 0.39\n"
     ]
    }
   ],
   "source": [
    "print_result('GC_3', 'train')\n",
    "print_result('GC_3', 'test')\n",
    "print_result('GC_3', 'all')"
   ]
  },
  {
   "cell_type": "code",
   "execution_count": 28,
   "id": "60efbd67",
   "metadata": {},
   "outputs": [
    {
     "name": "stdout",
     "output_type": "stream",
     "text": [
      "Heuristic GC_2 on train : Precision: 0.36 ; Recall: 0.03 ; F-measure: 0.05\n",
      "Heuristic GC_2 on test : Precision: 0.75 ; Recall: 0.06 ; F-measure: 0.10\n",
      "Heuristic GC_2 on all : Precision: 0.44 ; Recall: 0.03 ; F-measure: 0.06\n"
     ]
    }
   ],
   "source": [
    "print_result('GC_2', 'train')\n",
    "print_result('GC_2', 'test')\n",
    "print_result('GC_2', 'all')"
   ]
  },
  {
   "cell_type": "code",
   "execution_count": 29,
   "id": "3055b03b",
   "metadata": {},
   "outputs": [
    {
     "name": "stdout",
     "output_type": "stream",
     "text": [
      "Heuristic GC_1 on train : Precision: 0.25 ; Recall: 0.03 ; F-measure: 0.05\n",
      "Heuristic GC_1 on test : Precision: 0.75 ; Recall: 0.06 ; F-measure: 0.10\n",
      "Heuristic GC_1 on all : Precision: 0.33 ; Recall: 0.03 ; F-measure: 0.06\n"
     ]
    }
   ],
   "source": [
    "print_result('GC_1', 'train')\n",
    "print_result('GC_1', 'test')\n",
    "print_result('GC_1', 'all')"
   ]
  },
  {
   "cell_type": "markdown",
   "id": "c2554708",
   "metadata": {},
   "source": [
    "Result of Table 5:"
   ]
  },
  {
   "cell_type": "code",
   "execution_count": 30,
   "id": "5410013c",
   "metadata": {},
   "outputs": [],
   "source": [
    "def result(index, data):\n",
    "    rule = ['[ATFD] > 2 & [WMC] ≥ 47 & [TCC] < 0.33', '[WMC] ≥ 47 & [TCC] < 0.3 & [ATFD] > 5', '[NOM] > 15 | [NOF] > 15', '[CLOC] > 750 | [NOM] + [NOF] > 20',\n",
    "           '[NOM] + [NOF] > 20', '[LCOM] ≥ 0.725 & [WMC] ≥ 34 & [NOF] ≥ 8 & [NOM] ≥ 14', '[NOM] > 20 | [NOF] > 9 | [CLOC] > 750', '[CLOC] > 100 | [WMC] > 20',\n",
    "           'ALL', 'ANY', 'Weighted Vote']\n",
    "    trainP = []\n",
    "    trainR = []\n",
    "    trainF = []\n",
    "    testP = []\n",
    "    testR = []\n",
    "    testF = []\n",
    "    allP = []\n",
    "    allR = []\n",
    "    allF = []\n",
    "    for i in range(len(index)):\n",
    "        p1, r1, f1 = eval_calculation(index[i], 'train')\n",
    "        trainP.append(round(p1,2))\n",
    "        trainR.append(round(r1,2))\n",
    "        trainF.append(round(f1,2))\n",
    "        \n",
    "        p2, r2, f2 = eval_calculation(index[i], 'test')\n",
    "        testP.append(round(p2,2))\n",
    "        testR.append(round(r2,2))\n",
    "        testF.append(round(f2,2))\n",
    "        \n",
    "        p3, r3, f3 = eval_calculation(index[i], 'all')\n",
    "        allP.append(round(p3,2))\n",
    "        allR.append(round(r3,2))\n",
    "        allF.append(round(f3,2))\n",
    "        \n",
    "        p1 = p2 = p3 = r1 = r2 = r3 = f1 = f2 = f3 = 0\n",
    "        \n",
    "    data['Rule specification'] = rule\n",
    "    data['Training set-P'] = trainP\n",
    "    data['Training set-R'] = trainR\n",
    "    data['Training set-F'] = trainF\n",
    "    data['Test set-P'] = testP\n",
    "    data['Test set-R'] = testR\n",
    "    data['Test set-F'] = testF\n",
    "    data['All-P'] = allP\n",
    "    data['All-R'] = allR\n",
    "    data['All-F'] = allF\n",
    "    \n",
    "    df = pd.DataFrame(data,index)\n",
    "    \n",
    "    return df"
   ]
  },
  {
   "cell_type": "markdown",
   "id": "ee13a8ae",
   "metadata": {},
   "source": [
    "Show dataframe:"
   ]
  },
  {
   "cell_type": "code",
   "execution_count": 31,
   "id": "39559742",
   "metadata": {},
   "outputs": [
    {
     "data": {
      "text/html": [
       "<div>\n",
       "<style scoped>\n",
       "    .dataframe tbody tr th:only-of-type {\n",
       "        vertical-align: middle;\n",
       "    }\n",
       "\n",
       "    .dataframe tbody tr th {\n",
       "        vertical-align: top;\n",
       "    }\n",
       "\n",
       "    .dataframe thead th {\n",
       "        text-align: right;\n",
       "    }\n",
       "</style>\n",
       "<table border=\"1\" class=\"dataframe\">\n",
       "  <thead>\n",
       "    <tr style=\"text-align: right;\">\n",
       "      <th></th>\n",
       "      <th>Rule specification</th>\n",
       "      <th>Training set-P</th>\n",
       "      <th>Training set-R</th>\n",
       "      <th>Training set-F</th>\n",
       "      <th>Test set-P</th>\n",
       "      <th>Test set-R</th>\n",
       "      <th>Test set-F</th>\n",
       "      <th>All-P</th>\n",
       "      <th>All-R</th>\n",
       "      <th>All-F</th>\n",
       "    </tr>\n",
       "  </thead>\n",
       "  <tbody>\n",
       "    <tr>\n",
       "      <th>GC_1</th>\n",
       "      <td>[ATFD] &gt; 2 &amp; [WMC] ≥ 47 &amp; [TCC] &lt; 0.33</td>\n",
       "      <td>0.25</td>\n",
       "      <td>0.03</td>\n",
       "      <td>0.05</td>\n",
       "      <td>0.75</td>\n",
       "      <td>0.06</td>\n",
       "      <td>0.10</td>\n",
       "      <td>0.33</td>\n",
       "      <td>0.03</td>\n",
       "      <td>0.06</td>\n",
       "    </tr>\n",
       "    <tr>\n",
       "      <th>GC_2</th>\n",
       "      <td>[WMC] ≥ 47 &amp; [TCC] &lt; 0.3 &amp; [ATFD] &gt; 5</td>\n",
       "      <td>0.36</td>\n",
       "      <td>0.03</td>\n",
       "      <td>0.05</td>\n",
       "      <td>0.75</td>\n",
       "      <td>0.06</td>\n",
       "      <td>0.10</td>\n",
       "      <td>0.44</td>\n",
       "      <td>0.03</td>\n",
       "      <td>0.06</td>\n",
       "    </tr>\n",
       "    <tr>\n",
       "      <th>GC_3</th>\n",
       "      <td>[NOM] &gt; 15 | [NOF] &gt; 15</td>\n",
       "      <td>0.33</td>\n",
       "      <td>0.42</td>\n",
       "      <td>0.37</td>\n",
       "      <td>0.44</td>\n",
       "      <td>0.52</td>\n",
       "      <td>0.47</td>\n",
       "      <td>0.35</td>\n",
       "      <td>0.44</td>\n",
       "      <td>0.39</td>\n",
       "    </tr>\n",
       "    <tr>\n",
       "      <th>GC_4</th>\n",
       "      <td>[CLOC] &gt; 750 | [NOM] + [NOF] &gt; 20</td>\n",
       "      <td>0.35</td>\n",
       "      <td>0.46</td>\n",
       "      <td>0.40</td>\n",
       "      <td>0.39</td>\n",
       "      <td>0.44</td>\n",
       "      <td>0.42</td>\n",
       "      <td>0.36</td>\n",
       "      <td>0.46</td>\n",
       "      <td>0.40</td>\n",
       "    </tr>\n",
       "    <tr>\n",
       "      <th>GC_5</th>\n",
       "      <td>[NOM] + [NOF] &gt; 20</td>\n",
       "      <td>0.35</td>\n",
       "      <td>0.46</td>\n",
       "      <td>0.40</td>\n",
       "      <td>0.39</td>\n",
       "      <td>0.44</td>\n",
       "      <td>0.42</td>\n",
       "      <td>0.36</td>\n",
       "      <td>0.46</td>\n",
       "      <td>0.40</td>\n",
       "    </tr>\n",
       "    <tr>\n",
       "      <th>GC_6</th>\n",
       "      <td>[LCOM] ≥ 0.725 &amp; [WMC] ≥ 34 &amp; [NOF] ≥ 8 &amp; [NOM...</td>\n",
       "      <td>0.31</td>\n",
       "      <td>0.56</td>\n",
       "      <td>0.40</td>\n",
       "      <td>0.34</td>\n",
       "      <td>0.61</td>\n",
       "      <td>0.43</td>\n",
       "      <td>0.31</td>\n",
       "      <td>0.57</td>\n",
       "      <td>0.41</td>\n",
       "    </tr>\n",
       "    <tr>\n",
       "      <th>GC_7</th>\n",
       "      <td>[NOM] &gt; 20 | [NOF] &gt; 9 | [CLOC] &gt; 750</td>\n",
       "      <td>0.36</td>\n",
       "      <td>0.43</td>\n",
       "      <td>0.39</td>\n",
       "      <td>0.39</td>\n",
       "      <td>0.39</td>\n",
       "      <td>0.39</td>\n",
       "      <td>0.37</td>\n",
       "      <td>0.42</td>\n",
       "      <td>0.39</td>\n",
       "    </tr>\n",
       "    <tr>\n",
       "      <th>GC_8</th>\n",
       "      <td>[CLOC] &gt; 100 | [WMC] &gt; 20</td>\n",
       "      <td>0.34</td>\n",
       "      <td>0.66</td>\n",
       "      <td>0.45</td>\n",
       "      <td>0.37</td>\n",
       "      <td>0.70</td>\n",
       "      <td>0.49</td>\n",
       "      <td>0.35</td>\n",
       "      <td>0.67</td>\n",
       "      <td>0.46</td>\n",
       "    </tr>\n",
       "    <tr>\n",
       "      <th>ALL</th>\n",
       "      <td>ALL</td>\n",
       "      <td>0.50</td>\n",
       "      <td>0.02</td>\n",
       "      <td>0.04</td>\n",
       "      <td>0.75</td>\n",
       "      <td>0.06</td>\n",
       "      <td>0.10</td>\n",
       "      <td>0.58</td>\n",
       "      <td>0.03</td>\n",
       "      <td>0.05</td>\n",
       "    </tr>\n",
       "    <tr>\n",
       "      <th>ANY</th>\n",
       "      <td>ANY</td>\n",
       "      <td>0.30</td>\n",
       "      <td>0.71</td>\n",
       "      <td>0.42</td>\n",
       "      <td>0.31</td>\n",
       "      <td>0.70</td>\n",
       "      <td>0.43</td>\n",
       "      <td>0.30</td>\n",
       "      <td>0.71</td>\n",
       "      <td>0.42</td>\n",
       "    </tr>\n",
       "    <tr>\n",
       "      <th>Weighted_Vote</th>\n",
       "      <td>Weighted Vote</td>\n",
       "      <td>0.35</td>\n",
       "      <td>0.46</td>\n",
       "      <td>0.40</td>\n",
       "      <td>0.39</td>\n",
       "      <td>0.44</td>\n",
       "      <td>0.42</td>\n",
       "      <td>0.36</td>\n",
       "      <td>0.45</td>\n",
       "      <td>0.40</td>\n",
       "    </tr>\n",
       "  </tbody>\n",
       "</table>\n",
       "</div>"
      ],
      "text/plain": [
       "                                              Rule specification  \\\n",
       "GC_1                      [ATFD] > 2 & [WMC] ≥ 47 & [TCC] < 0.33   \n",
       "GC_2                       [WMC] ≥ 47 & [TCC] < 0.3 & [ATFD] > 5   \n",
       "GC_3                                     [NOM] > 15 | [NOF] > 15   \n",
       "GC_4                           [CLOC] > 750 | [NOM] + [NOF] > 20   \n",
       "GC_5                                          [NOM] + [NOF] > 20   \n",
       "GC_6           [LCOM] ≥ 0.725 & [WMC] ≥ 34 & [NOF] ≥ 8 & [NOM...   \n",
       "GC_7                       [NOM] > 20 | [NOF] > 9 | [CLOC] > 750   \n",
       "GC_8                                   [CLOC] > 100 | [WMC] > 20   \n",
       "ALL                                                          ALL   \n",
       "ANY                                                          ANY   \n",
       "Weighted_Vote                                      Weighted Vote   \n",
       "\n",
       "               Training set-P  Training set-R  Training set-F  Test set-P  \\\n",
       "GC_1                     0.25            0.03            0.05        0.75   \n",
       "GC_2                     0.36            0.03            0.05        0.75   \n",
       "GC_3                     0.33            0.42            0.37        0.44   \n",
       "GC_4                     0.35            0.46            0.40        0.39   \n",
       "GC_5                     0.35            0.46            0.40        0.39   \n",
       "GC_6                     0.31            0.56            0.40        0.34   \n",
       "GC_7                     0.36            0.43            0.39        0.39   \n",
       "GC_8                     0.34            0.66            0.45        0.37   \n",
       "ALL                      0.50            0.02            0.04        0.75   \n",
       "ANY                      0.30            0.71            0.42        0.31   \n",
       "Weighted_Vote            0.35            0.46            0.40        0.39   \n",
       "\n",
       "               Test set-R  Test set-F  All-P  All-R  All-F  \n",
       "GC_1                 0.06        0.10   0.33   0.03   0.06  \n",
       "GC_2                 0.06        0.10   0.44   0.03   0.06  \n",
       "GC_3                 0.52        0.47   0.35   0.44   0.39  \n",
       "GC_4                 0.44        0.42   0.36   0.46   0.40  \n",
       "GC_5                 0.44        0.42   0.36   0.46   0.40  \n",
       "GC_6                 0.61        0.43   0.31   0.57   0.41  \n",
       "GC_7                 0.39        0.39   0.37   0.42   0.39  \n",
       "GC_8                 0.70        0.49   0.35   0.67   0.46  \n",
       "ALL                  0.06        0.10   0.58   0.03   0.05  \n",
       "ANY                  0.70        0.43   0.30   0.71   0.42  \n",
       "Weighted_Vote        0.44        0.42   0.36   0.45   0.40  "
      ]
     },
     "execution_count": 31,
     "metadata": {},
     "output_type": "execute_result"
    }
   ],
   "source": [
    "index = ['GC_1','GC_2','GC_3','GC_4','GC_5','GC_6','GC_7','GC_8','ALL','ANY','Weighted_Vote']\n",
    "data = {'Rule specification':[], 'Training set-P':[], 'Training set-R':[], 'Training set-F':[], \n",
    "        'Test set-P':[], 'Test set-R':[], 'Test set-F':[], \n",
    "        'All-P':[], 'All-R':[], 'All-F':[]}\n",
    "df = result(index, data)\n",
    "df\n",
    "#print(df)"
   ]
  },
  {
   "cell_type": "markdown",
   "id": "c33790a6",
   "metadata": {},
   "source": [
    "Change dataframe to csv format and save it:"
   ]
  },
  {
   "cell_type": "code",
   "execution_count": 32,
   "id": "7ced72ce",
   "metadata": {},
   "outputs": [],
   "source": [
    "import os\n",
    "df.to_csv(os.path.join('../Outputs/Tables',r'God_Class_Table_5.csv'))"
   ]
  },
  {
   "cell_type": "markdown",
   "id": "d0c80919",
   "metadata": {},
   "source": [
    "Visualization:"
   ]
  },
  {
   "cell_type": "code",
   "execution_count": 33,
   "id": "128792ae",
   "metadata": {},
   "outputs": [],
   "source": [
    "import matplotlib.pyplot as plt\n",
    "import numpy as np\n",
    "\n",
    "def visualization():\n",
    "    barWidth = 0.25\n",
    "    fig = plt.figure(figsize=(12, 8))\n",
    "    preci = []\n",
    "    rec = []\n",
    "    fmeas = []\n",
    "    heuristics = []\n",
    "    df2 = df[['Test set-P', 'Test set-R', 'Test set-F']]\n",
    "    df_visual = df2.sort_values('Test set-F')\n",
    "    \n",
    "    preci = df_visual['Test set-P']\n",
    "    rec = df_visual['Test set-R']\n",
    "    fmeas = df_visual['Test set-F']\n",
    "    heuristics = df_visual.index\n",
    "        \n",
    "    br1 = np.arange(len(preci))\n",
    "    br2 = [x + barWidth for x in br1]\n",
    "    br3 = [x + barWidth for x in br2]\n",
    "    \n",
    "    plt.bar(br1, preci, color = 'b', width = barWidth, label = 'Precision')\n",
    "    plt.bar(br2, rec, color = 'g', width = barWidth, label = 'Recall')\n",
    "    plt.bar(br3, fmeas, color = 'orange', width = barWidth, label = 'F-measure')\n",
    "    \n",
    "    plt.xlabel('God Class Heuristics', fontweight = 'bold', fontsize = 15)\n",
    "    plt.ylabel('Values', fontweight = 'bold', fontsize = 15)\n",
    "    plt.xticks([r + barWidth for r in range(len(preci))],heuristics)\n",
    "    \n",
    "    plt.legend()\n",
    "    plt.show()\n",
    "    \n",
    "    fig.savefig('../Outputs/Figures/Heuristic_based_approaches_God_Class_test_set_Fig_4.png', dpi=fig.dpi)\n",
    "    \n",
    "    plt.close()\n",
    "    "
   ]
  },
  {
   "cell_type": "markdown",
   "id": "3fb8bb4d",
   "metadata": {},
   "source": [
    "Fig 4:"
   ]
  },
  {
   "cell_type": "code",
   "execution_count": 34,
   "id": "a9b99157",
   "metadata": {},
   "outputs": [
    {
     "data": {
      "image/png": "[encoded data removed]",
      "text/plain": [
       "<Figure size 1200x800 with 1 Axes>"
      ]
     },
     "metadata": {},
     "output_type": "display_data"
    }
   ],
   "source": [
    "visualization()"
   ]
  },
  {
   "cell_type": "code",
   "execution_count": null,
   "id": "475c9f27",
   "metadata": {},
   "outputs": [],
   "source": []
  }
 ],
 "metadata": {
  "kernelspec": {
   "display_name": "Python 3 (ipykernel)",
   "language": "python",
   "name": "python3"
  },
  "language_info": {
   "codemirror_mode": {
    "name": "ipython",
    "version": 3
   },
   "file_extension": ".py",
   "mimetype": "text/x-python",
   "name": "python",
   "nbconvert_exporter": "python",
   "pygments_lexer": "ipython3",
   "version": "3.9.13"
  }
 },
 "nbformat": 4,
 "nbformat_minor": 5
}
